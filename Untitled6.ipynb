{
 "cells": [
  {
   "cell_type": "code",
   "execution_count": 1,
   "metadata": {
    "collapsed": true
   },
   "outputs": [],
   "source": [
    "from IPhreeqcPy import IPhreeqc\n",
    "x=IPhreeqc() #initalize IPhreeqc object\n",
    "x.LoadDatabase('phreeqc.dat') # Load database\n",
    "x.SetDumpStringOn()   #set DumpString output on\n",
    "x.AccumulateLine(\n",
    "\"\"\"\n",
    "SOLUTION 1\n",
    " pH 7 charge\n",
    " C 1 CO2(g) -1\n",
    " Ca 1 Calcite\n",
    " F 1 Fluorite\n",
    "\n",
    "REACTION\n",
    " NaAlSi3O8 1\n",
    " 7.5e-3 in 15\n",
    " \n",
    "EQUILIBRIUM_PHASES 1\n",
    " Fluorite\n",
    " Calcite\n",
    " Quartz 0 0\n",
    " Kaolinite 0 0\n",
    "\"\"\"\n",
    ") # Do some Phrqc input\n",
    "x.RunAccumulated() #Run phreeqc\n",
    "#You can also run phreeqc like this\n",
    "outar = x.GetSelectedOutputArray() #get selected output\n",
    "outst = x.GetDumpString() #get dump string"
   ]
  },
  {
   "cell_type": "code",
   "execution_count": 2,
   "metadata": {},
   "outputs": [
    {
     "data": {
      "text/plain": [
       "[]"
      ]
     },
     "execution_count": 2,
     "metadata": {},
     "output_type": "execute_result"
    }
   ],
   "source": [
    "outar"
   ]
  },
  {
   "cell_type": "code",
   "execution_count": 6,
   "metadata": {},
   "outputs": [],
   "source": [
    "from IPhreeqcPy import IPhreeqc\n",
    "x=IPhreeqc() #initalize IPhreeqc object\n",
    "x.LoadDatabase('cemdata07.dat') # Load database\n",
    "x.SetDumpStringOn()   #set DumpString output on\n",
    "x.SetDumpFileOn()\n",
    "x.AccumulateLine(\n",
    "\"\"\"\n",
    "solution 0-1\n",
    "-pH 7 charge\n",
    "-water 1.0\n",
    "Equilibrium phases 1\n",
    "portlandite 0 1\n",
    "save solution 1\n",
    "save Equilibrium phases 1\n",
    "save solution 0\n",
    "selected_output\n",
    "-file abstracted_model.xls\n",
    "-totals Ca Si\n",
    "-temp true\n",
    "-high_precision true\n",
    "-equilibrium_phases  portlandite\n",
    "Dump\n",
    "-all\n",
    "end\n",
    "\"\"\"\n",
    ") # Do some Phrqc input\n",
    "x.RunAccumulated() #Run phreeqc\n",
    "x.RunString(\n",
    "\"\"\"\n",
    "use solution 1\n",
    "use Equilibrium phases 1\n",
    "use solution 0\n",
    "Advection\n",
    "-cells 1\n",
    "-shifts 10000\n",
    "-punch_frequency 500\n",
    "\"\"\"\n",
    ") #You can also run phreeqc like this\n",
    "outar = x.GetSelectedOutputArray() #get selected output\n",
    "outs = x.GetDumpString() #get dump string"
   ]
  },
  {
   "cell_type": "code",
   "execution_count": 8,
   "metadata": {},
   "outputs": [
    {
     "data": {
      "text/plain": [
       "['sim',\n",
       " 'state',\n",
       " 'soln',\n",
       " 'dist_x',\n",
       " 'time',\n",
       " 'step',\n",
       " 'pH',\n",
       " 'pe',\n",
       " 'temp(C)',\n",
       " 'Ca(mol/kgw)',\n",
       " 'Si(mol/kgw)',\n",
       " 'portlandite',\n",
       " 'd_portlandite']"
      ]
     },
     "execution_count": 8,
     "metadata": {},
     "output_type": "execute_result"
    }
   ],
   "source": [
    "outar[0]"
   ]
  },
  {
   "cell_type": "code",
   "execution_count": 7,
   "metadata": {},
   "outputs": [
    {
     "name": "stdout",
     "output_type": "stream",
     "text": [
      "dump.0.out                phr2.txt         Untitled2.ipynb  Untitled.ipynb\r\n",
      "dump.2.out                phrex2           Untitled3.ipynb  untitled.txt\r\n",
      "\u001b[0m\u001b[01;34mIPhreeqcPy-v1.0.0\u001b[0m/        phrex.txt        Untitled4.ipynb\r\n",
      "\u001b[01;31mIPhreeqcPy-v1.0.0.tar.gz\u001b[0m  \u001b[01;34mtemplates\u001b[0m/       Untitled5.ipynb\r\n",
      "\u001b[01;34mp3env\u001b[0m/                    Untitled1.ipynb  Untitled6.ipynb\r\n"
     ]
    }
   ],
   "source": [
    "ls"
   ]
  },
  {
   "cell_type": "code",
   "execution_count": 9,
   "metadata": {
    "collapsed": true
   },
   "outputs": [],
   "source": [
    "import numpy as np"
   ]
  },
  {
   "cell_type": "code",
   "execution_count": 10,
   "metadata": {
    "collapsed": true
   },
   "outputs": [],
   "source": [
    "outar1 = np.array(outar)"
   ]
  },
  {
   "cell_type": "code",
   "execution_count": 11,
   "metadata": {
    "collapsed": true
   },
   "outputs": [],
   "source": [
    "data = outar1[1:]"
   ]
  },
  {
   "cell_type": "code",
   "execution_count": 12,
   "metadata": {},
   "outputs": [
    {
     "data": {
      "text/plain": [
       "array([['1', 'react', '0', '-99.0', '0.0', '1', '12.479902953321027',\n",
       "        '-3.5089724620684857', '25.0', '0.01949231187147066', '0.0',\n",
       "        '0.980507688093405', '0.0'],\n",
       "       ['1', 'advect', '1', '1.0', '500.0', '500', '12.479902953321027',\n",
       "        '-3.5089724620684857', '25.0', '0.01949231187147066', '0.0',\n",
       "        '0.980507688093405', '0.0'],\n",
       "       ['1', 'advect', '1', '1.0', '1000.0', '1000', '12.479902953321027',\n",
       "        '-3.5089724620684857', '25.0', '0.01949231187147066', '0.0',\n",
       "        '0.980507688093405', '0.0'],\n",
       "       ['1', 'advect', '1', '1.0', '1500.0', '1500', '12.479902953321027',\n",
       "        '-3.5089724620684857', '25.0', '0.01949231187147066', '0.0',\n",
       "        '0.980507688093405', '0.0'],\n",
       "       ['1', 'advect', '1', '1.0', '2000.0', '2000', '12.479902953321027',\n",
       "        '-3.5089724620684857', '25.0', '0.01949231187147066', '0.0',\n",
       "        '0.980507688093405', '0.0'],\n",
       "       ['1', 'advect', '1', '1.0', '2500.0', '2500', '12.479902953321027',\n",
       "        '-3.5089724620684857', '25.0', '0.01949231187147066', '0.0',\n",
       "        '0.980507688093405', '0.0'],\n",
       "       ['1', 'advect', '1', '1.0', '3000.0', '3000', '12.479902953321027',\n",
       "        '-3.5089724620684857', '25.0', '0.01949231187147066', '0.0',\n",
       "        '0.980507688093405', '0.0'],\n",
       "       ['1', 'advect', '1', '1.0', '3500.0', '3500', '12.479902953321027',\n",
       "        '-3.5089724620684857', '25.0', '0.01949231187147066', '0.0',\n",
       "        '0.980507688093405', '0.0'],\n",
       "       ['1', 'advect', '1', '1.0', '4000.0', '4000', '12.479902953321027',\n",
       "        '-3.5089724620684857', '25.0', '0.01949231187147066', '0.0',\n",
       "        '0.980507688093405', '0.0'],\n",
       "       ['1', 'advect', '1', '1.0', '4500.0', '4500', '12.479902953321027',\n",
       "        '-3.5089724620684857', '25.0', '0.01949231187147066', '0.0',\n",
       "        '0.980507688093405', '0.0'],\n",
       "       ['1', 'advect', '1', '1.0', '5000.0', '5000', '12.479902953321027',\n",
       "        '-3.5089724620684857', '25.0', '0.01949231187147066', '0.0',\n",
       "        '0.980507688093405', '0.0'],\n",
       "       ['1', 'advect', '1', '1.0', '5500.0', '5500', '12.479902953321027',\n",
       "        '-3.5089724620684857', '25.0', '0.01949231187147066', '0.0',\n",
       "        '0.980507688093405', '0.0'],\n",
       "       ['1', 'advect', '1', '1.0', '6000.0', '6000', '12.479902953321027',\n",
       "        '-3.5089724620684857', '25.0', '0.01949231187147066', '0.0',\n",
       "        '0.980507688093405', '0.0'],\n",
       "       ['1', 'advect', '1', '1.0', '6500.0', '6500', '12.479902953321027',\n",
       "        '-3.5089724620684857', '25.0', '0.01949231187147066', '0.0',\n",
       "        '0.980507688093405', '0.0'],\n",
       "       ['1', 'advect', '1', '1.0', '7000.0', '7000', '12.479902953321027',\n",
       "        '-3.5089724620684857', '25.0', '0.01949231187147066', '0.0',\n",
       "        '0.980507688093405', '0.0'],\n",
       "       ['1', 'advect', '1', '1.0', '7500.0', '7500', '12.479902953321027',\n",
       "        '-3.5089724620684857', '25.0', '0.01949231187147066', '0.0',\n",
       "        '0.980507688093405', '0.0'],\n",
       "       ['1', 'advect', '1', '1.0', '8000.0', '8000', '12.479902953321027',\n",
       "        '-3.5089724620684857', '25.0', '0.01949231187147066', '0.0',\n",
       "        '0.980507688093405', '0.0'],\n",
       "       ['1', 'advect', '1', '1.0', '8500.0', '8500', '12.479902953321027',\n",
       "        '-3.5089724620684857', '25.0', '0.01949231187147066', '0.0',\n",
       "        '0.980507688093405', '0.0'],\n",
       "       ['1', 'advect', '1', '1.0', '9000.0', '9000', '12.479902953321027',\n",
       "        '-3.5089724620684857', '25.0', '0.01949231187147066', '0.0',\n",
       "        '0.980507688093405', '0.0'],\n",
       "       ['1', 'advect', '1', '1.0', '9500.0', '9500', '12.479902953321027',\n",
       "        '-3.5089724620684857', '25.0', '0.01949231187147066', '0.0',\n",
       "        '0.980507688093405', '0.0'],\n",
       "       ['1', 'advect', '1', '1.0', '10000.0', '10000',\n",
       "        '12.479902953321027', '-3.5089724620684857', '25.0',\n",
       "        '0.01949231187147066', '0.0', '0.980507688093405', '0.0']],\n",
       "      dtype='<U19')"
      ]
     },
     "execution_count": 12,
     "metadata": {},
     "output_type": "execute_result"
    }
   ],
   "source": [
    "data"
   ]
  },
  {
   "cell_type": "code",
   "execution_count": null,
   "metadata": {
    "collapsed": true
   },
   "outputs": [],
   "source": []
  }
 ],
 "metadata": {
  "kernelspec": {
   "display_name": "Python 3",
   "language": "python",
   "name": "python3"
  },
  "language_info": {
   "codemirror_mode": {
    "name": "ipython",
    "version": 3
   },
   "file_extension": ".py",
   "mimetype": "text/x-python",
   "name": "python",
   "nbconvert_exporter": "python",
   "pygments_lexer": "ipython3",
   "version": "3.5.2"
  }
 },
 "nbformat": 4,
 "nbformat_minor": 2
}
