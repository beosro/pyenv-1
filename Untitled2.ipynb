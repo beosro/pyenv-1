{
 "cells": [
  {
   "cell_type": "code",
   "execution_count": 1,
   "metadata": {
    "collapsed": true
   },
   "outputs": [],
   "source": [
    "import numpy as np"
   ]
  },
  {
   "cell_type": "code",
   "execution_count": 2,
   "metadata": {
    "collapsed": true
   },
   "outputs": [],
   "source": [
    "from IPhreeqcPy import IPhreeqc"
   ]
  },
  {
   "cell_type": "code",
   "execution_count": 4,
   "metadata": {},
   "outputs": [
    {
     "ename": "Exception",
     "evalue": "An error occured.\nERROR: Cannot find master species for redox couple, N(-3)/N(5).\n",
     "output_type": "error",
     "traceback": [
      "\u001b[0;31m---------------------------------------------------------------------------\u001b[0m",
      "\u001b[0;31mException\u001b[0m                                 Traceback (most recent call last)",
      "\u001b[0;32m<ipython-input-4-1b52c47a508f>\u001b[0m in \u001b[0;36m<module>\u001b[0;34m()\u001b[0m\n\u001b[1;32m     76\u001b[0m \u001b[0mEND\u001b[0m\u001b[0;34m\u001b[0m\u001b[0m\n\u001b[1;32m     77\u001b[0m     \"\"\")\n\u001b[0;32m---> 78\u001b[0;31m \u001b[0mx\u001b[0m\u001b[0;34m.\u001b[0m\u001b[0mRunAccumulated\u001b[0m\u001b[0;34m(\u001b[0m\u001b[0;34m)\u001b[0m\u001b[0;34m\u001b[0m\u001b[0m\n\u001b[0m",
      "\u001b[0;32m~/p3/p3env/lib/python3.5/site-packages/IPhreeqcPy.py\u001b[0m in \u001b[0;36mRunAccumulated\u001b[0;34m(self)\u001b[0m\n\u001b[1;32m    181\u001b[0m         \u001b[0merrors\u001b[0m \u001b[0;34m=\u001b[0m \u001b[0mself\u001b[0m\u001b[0;34m.\u001b[0m\u001b[0m_RunAccumulated\u001b[0m\u001b[0;34m(\u001b[0m\u001b[0mself\u001b[0m\u001b[0;34m.\u001b[0m\u001b[0mid\u001b[0m\u001b[0;34m)\u001b[0m\u001b[0;34m\u001b[0m\u001b[0m\n\u001b[1;32m    182\u001b[0m         \u001b[0;32mif\u001b[0m \u001b[0merrors\u001b[0m \u001b[0;34m!=\u001b[0m \u001b[0;36m0\u001b[0m\u001b[0;34m:\u001b[0m\u001b[0;34m\u001b[0m\u001b[0m\n\u001b[0;32m--> 183\u001b[0;31m             \u001b[0mself\u001b[0m\u001b[0;34m.\u001b[0m\u001b[0m_RaiseStringError\u001b[0m\u001b[0;34m(\u001b[0m\u001b[0merrors\u001b[0m\u001b[0;34m)\u001b[0m\u001b[0;34m\u001b[0m\u001b[0m\n\u001b[0m\u001b[1;32m    184\u001b[0m \u001b[0;34m\u001b[0m\u001b[0m\n\u001b[1;32m    185\u001b[0m     \u001b[0;32mdef\u001b[0m \u001b[0mAddError\u001b[0m\u001b[0;34m(\u001b[0m\u001b[0mself\u001b[0m\u001b[0;34m,\u001b[0m \u001b[0mphc_error_msg\u001b[0m\u001b[0;34m)\u001b[0m\u001b[0;34m:\u001b[0m\u001b[0;34m\u001b[0m\u001b[0m\n",
      "\u001b[0;32m~/p3/p3env/lib/python3.5/site-packages/IPhreeqcPy.py\u001b[0m in \u001b[0;36m_RaiseStringError\u001b[0;34m(self, errors)\u001b[0m\n\u001b[1;32m    165\u001b[0m         \u001b[0;32melse\u001b[0m\u001b[0;34m:\u001b[0m\u001b[0;34m\u001b[0m\u001b[0m\n\u001b[1;32m    166\u001b[0m             \u001b[0mmsg\u001b[0m \u001b[0;34m=\u001b[0m \u001b[0;34m'Wrong error number.'\u001b[0m\u001b[0;34m\u001b[0m\u001b[0m\n\u001b[0;32m--> 167\u001b[0;31m         \u001b[0;32mraise\u001b[0m \u001b[0mException\u001b[0m\u001b[0;34m(\u001b[0m\u001b[0mmsg\u001b[0m \u001b[0;34m+\u001b[0m \u001b[0mself\u001b[0m\u001b[0;34m.\u001b[0m\u001b[0mGetErrorString\u001b[0m\u001b[0;34m(\u001b[0m\u001b[0;34m)\u001b[0m\u001b[0;34m)\u001b[0m\u001b[0;34m\u001b[0m\u001b[0m\n\u001b[0m\u001b[1;32m    168\u001b[0m \u001b[0;34m\u001b[0m\u001b[0m\n\u001b[1;32m    169\u001b[0m     \u001b[0;32mdef\u001b[0m \u001b[0mAccumulateLine\u001b[0m\u001b[0;34m(\u001b[0m\u001b[0mself\u001b[0m\u001b[0;34m,\u001b[0m \u001b[0mline\u001b[0m\u001b[0;34m)\u001b[0m\u001b[0;34m:\u001b[0m\u001b[0;34m\u001b[0m\u001b[0m\n",
      "\u001b[0;31mException\u001b[0m: An error occured.\nERROR: Cannot find master species for redox couple, N(-3)/N(5).\n"
     ]
    }
   ],
   "source": [
    "x=IPhreeqc() #initalize IPhreeqc object\n",
    "x.LoadDatabase('phreeqc.dat') # Load database\n",
    "x.SetDumpStringOn()   #set DumpString output on\n",
    "x.AccumulateLine(\n",
    "    \"\"\"\n",
    "    TITLE Example 1.--Add uranium and speciate seawater.\n",
    "SOLUTION 1  SEAWATER FROM NORDSTROM AND OTHERS (1979)\n",
    "        units   ppm\n",
    "        pH      8.22\n",
    "        pe      8.451\n",
    "        density 1.023\n",
    "        temp    25.0\n",
    "        redox   O(0)/O(-2)\n",
    "        Ca              412.3\n",
    "        Mg              1291.8\n",
    "        Na              10768.0\n",
    "        K               399.1\n",
    "        Fe              0.002\n",
    "        Mn              0.0002  pe\n",
    "        Si              4.28\n",
    "        Cl              19353.0\n",
    "        Alkalinity      141.682 as HCO3\n",
    "        S(6)            2712.0\n",
    "        N(5)            0.29    gfw   62.0\n",
    "        N(-3)           0.03    as    NH4\n",
    "        U               3.3     ppb   N(5)/N(-3)\n",
    "        O(0)            1.0     O2(g) -0.7\n",
    "SOLUTION_MASTER_SPECIES\n",
    "        U       U+4     0.0     238.0290     238.0290\n",
    "        U(4)    U+4     0.0     238.0290\n",
    "        U(5)    UO2+    0.0     238.0290\n",
    "        U(6)    UO2+2   0.0     238.0290\n",
    "SOLUTION_SPECIES\n",
    "        #primary master species for U\n",
    "        #is also secondary master species for U(4)\n",
    "        U+4 = U+4\n",
    "                log_k          0.0\n",
    "SOLUTION_SPECIES\n",
    "        U+4 + 4 H2O = U(OH)4 + 4 H+\n",
    "                log_k          -8.538\n",
    "                delta_h        24.760 kcal\n",
    "        U+4 + 5 H2O = U(OH)5- + 5 H+\n",
    "                log_k          -13.147\n",
    "                delta_h        27.580 kcal\n",
    "        #secondary master species for U(5)\n",
    "        U+4 + 2 H2O = UO2+ + 4 H+ + e-\n",
    "                log_k          -6.432\n",
    "                delta_h        31.130 kcal\n",
    "        #secondary master species for U(6)\n",
    "        U+4 + 2 H2O = UO2+2 + 4 H+ + 2 e-\n",
    "                log_k          -9.217\n",
    "                delta_h        34.430 kcal\n",
    "        UO2+2 + H2O = UO2OH+ + H+\n",
    "                log_k          -5.782\n",
    "                delta_h        11.015 kcal\n",
    "        2UO2+2 + 2H2O = (UO2)2(OH)2+2 + 2H+\n",
    "                log_k          -5.626\n",
    "                delta_h        -36.04 kcal\n",
    "        3UO2+2 + 5H2O = (UO2)3(OH)5+ + 5H+\n",
    "                log_k          -15.641\n",
    "                delta_h        -44.27 kcal\n",
    "        UO2+2 + CO3-2 = UO2CO3\n",
    "                log_k          10.064\n",
    "                delta_h        0.84 kcal\n",
    "        UO2+2 + 2CO3-2 = UO2(CO3)2-2\n",
    "                log_k          16.977\n",
    "                delta_h        3.48 kcal\n",
    "        UO2+2 + 3CO3-2 = UO2(CO3)3-4\n",
    "                log_k          21.397\n",
    "                delta_h        -8.78 kcal\n",
    "PHASES\n",
    "        Uraninite\n",
    "        UO2 + 4 H+ = U+4 + 2 H2O\n",
    "        log_k          -3.490\n",
    "        delta_h        -18.630 kcal\n",
    "END\n",
    "    \"\"\")\n",
    "x.RunAccumulated()"
   ]
  },
  {
   "cell_type": "code",
   "execution_count": 5,
   "metadata": {
    "collapsed": true
   },
   "outputs": [],
   "source": [
    "b = IPhreeqc()"
   ]
  },
  {
   "cell_type": "code",
   "execution_count": 6,
   "metadata": {
    "collapsed": true
   },
   "outputs": [],
   "source": [
    "b.LoadDatabase('phreeqc.dat')"
   ]
  },
  {
   "cell_type": "code",
   "execution_count": 7,
   "metadata": {},
   "outputs": [
    {
     "ename": "Exception",
     "evalue": "An error occured.\nERROR: Cannot find master species for redox couple, N(-3)/N(5).\n",
     "output_type": "error",
     "traceback": [
      "\u001b[0;31m---------------------------------------------------------------------------\u001b[0m",
      "\u001b[0;31mException\u001b[0m                                 Traceback (most recent call last)",
      "\u001b[0;32m<ipython-input-7-35a564ca2534>\u001b[0m in \u001b[0;36m<module>\u001b[0;34m()\u001b[0m\n\u001b[0;32m----> 1\u001b[0;31m \u001b[0mb\u001b[0m\u001b[0;34m.\u001b[0m\u001b[0mRunFile\u001b[0m\u001b[0;34m(\u001b[0m\u001b[0;34m'untitled.txt'\u001b[0m\u001b[0;34m)\u001b[0m\u001b[0;34m\u001b[0m\u001b[0m\n\u001b[0m",
      "\u001b[0;32m~/p3/p3env/lib/python3.5/site-packages/IPhreeqcPy.py\u001b[0m in \u001b[0;36mRunFile\u001b[0;34m(self, Filename)\u001b[0m\n\u001b[1;32m    482\u001b[0m                                   ctypes.c_char_p(bytes(frun, 'utf-8')))\n\u001b[1;32m    483\u001b[0m         \u001b[0;32mif\u001b[0m \u001b[0merrors\u001b[0m \u001b[0;34m!=\u001b[0m \u001b[0;36m0\u001b[0m\u001b[0;34m:\u001b[0m\u001b[0;34m\u001b[0m\u001b[0m\n\u001b[0;32m--> 484\u001b[0;31m             \u001b[0mself\u001b[0m\u001b[0;34m.\u001b[0m\u001b[0m_RaiseStringError\u001b[0m\u001b[0;34m(\u001b[0m\u001b[0merrors\u001b[0m\u001b[0;34m)\u001b[0m\u001b[0;34m\u001b[0m\u001b[0m\n\u001b[0m\u001b[1;32m    485\u001b[0m \u001b[0;34m\u001b[0m\u001b[0m\n\u001b[1;32m    486\u001b[0m     \u001b[0;32mdef\u001b[0m \u001b[0mSetDumpFileOn\u001b[0m\u001b[0;34m(\u001b[0m\u001b[0mself\u001b[0m\u001b[0;34m)\u001b[0m\u001b[0;34m:\u001b[0m\u001b[0;34m\u001b[0m\u001b[0m\n",
      "\u001b[0;32m~/p3/p3env/lib/python3.5/site-packages/IPhreeqcPy.py\u001b[0m in \u001b[0;36m_RaiseStringError\u001b[0;34m(self, errors)\u001b[0m\n\u001b[1;32m    165\u001b[0m         \u001b[0;32melse\u001b[0m\u001b[0;34m:\u001b[0m\u001b[0;34m\u001b[0m\u001b[0m\n\u001b[1;32m    166\u001b[0m             \u001b[0mmsg\u001b[0m \u001b[0;34m=\u001b[0m \u001b[0;34m'Wrong error number.'\u001b[0m\u001b[0;34m\u001b[0m\u001b[0m\n\u001b[0;32m--> 167\u001b[0;31m         \u001b[0;32mraise\u001b[0m \u001b[0mException\u001b[0m\u001b[0;34m(\u001b[0m\u001b[0mmsg\u001b[0m \u001b[0;34m+\u001b[0m \u001b[0mself\u001b[0m\u001b[0;34m.\u001b[0m\u001b[0mGetErrorString\u001b[0m\u001b[0;34m(\u001b[0m\u001b[0;34m)\u001b[0m\u001b[0;34m)\u001b[0m\u001b[0;34m\u001b[0m\u001b[0m\n\u001b[0m\u001b[1;32m    168\u001b[0m \u001b[0;34m\u001b[0m\u001b[0m\n\u001b[1;32m    169\u001b[0m     \u001b[0;32mdef\u001b[0m \u001b[0mAccumulateLine\u001b[0m\u001b[0;34m(\u001b[0m\u001b[0mself\u001b[0m\u001b[0;34m,\u001b[0m \u001b[0mline\u001b[0m\u001b[0;34m)\u001b[0m\u001b[0;34m:\u001b[0m\u001b[0;34m\u001b[0m\u001b[0m\n",
      "\u001b[0;31mException\u001b[0m: An error occured.\nERROR: Cannot find master species for redox couple, N(-3)/N(5).\n"
     ]
    }
   ],
   "source": [
    "b.RunFile('untitled.txt')"
   ]
  },
  {
   "cell_type": "code",
   "execution_count": 8,
   "metadata": {
    "collapsed": true
   },
   "outputs": [],
   "source": [
    "c = IPhreeqc()"
   ]
  },
  {
   "cell_type": "code",
   "execution_count": 9,
   "metadata": {
    "collapsed": true
   },
   "outputs": [],
   "source": [
    "c.LoadDatabase('wateq4f.dat')"
   ]
  },
  {
   "cell_type": "code",
   "execution_count": 15,
   "metadata": {
    "collapsed": true
   },
   "outputs": [],
   "source": [
    "c.RunFile('untitled.txt')"
   ]
  },
  {
   "cell_type": "code",
   "execution_count": 14,
   "metadata": {
    "collapsed": true
   },
   "outputs": [],
   "source": [
    "c.SetSelectedOutputFileOn()"
   ]
  },
  {
   "cell_type": "code",
   "execution_count": 20,
   "metadata": {},
   "outputs": [
    {
     "data": {
      "text/plain": [
       "[]"
      ]
     },
     "execution_count": 20,
     "metadata": {},
     "output_type": "execute_result"
    }
   ],
   "source": [
    "c.GetSelectedOutputArray()"
   ]
  },
  {
   "cell_type": "code",
   "execution_count": null,
   "metadata": {
    "collapsed": true
   },
   "outputs": [],
   "source": []
  }
 ],
 "metadata": {
  "kernelspec": {
   "display_name": "Python 3",
   "language": "python",
   "name": "python3"
  },
  "language_info": {
   "codemirror_mode": {
    "name": "ipython",
    "version": 3
   },
   "file_extension": ".py",
   "mimetype": "text/x-python",
   "name": "python",
   "nbconvert_exporter": "python",
   "pygments_lexer": "ipython3",
   "version": "3.5.2"
  }
 },
 "nbformat": 4,
 "nbformat_minor": 2
}
