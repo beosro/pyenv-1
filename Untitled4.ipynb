{
 "cells": [
  {
   "cell_type": "code",
   "execution_count": 1,
   "metadata": {
    "collapsed": true
   },
   "outputs": [],
   "source": [
    "from IPhreeqcPy import IPhreeqc\n",
    "c = IPhreeqc()\n",
    "c.SetDumpFileOn()\n",
    "c.SetDumpStringOn()\n",
    "c.SetSelectedOutputFileOn()\n",
    "c.LoadDatabase('cemdata07.dat')\n",
    "c.AccumulateLine(\n",
    "\"\"\"\n",
    "solution 0-1\n",
    "-pH 7 charge\n",
    "-water 1.0\n",
    "Equilibrium phases 1\n",
    "portlandite 0 1\n",
    "save solution 1\n",
    "save Equilibrium phases 1\n",
    "save solution 0\n",
    "selected_output\n",
    "-file abstracted_model.xls\n",
    "-totals Ca Si\n",
    "-temp true\n",
    "-high_precision true\n",
    "-equilibrium_phases  portlandite\n",
    "Dump\n",
    "-all\n",
    "end\n",
    "\n",
    "\"\"\")\n",
    "c.RunAccumulated()"
   ]
  },
  {
   "cell_type": "code",
   "execution_count": 2,
   "metadata": {},
   "outputs": [
    {
     "data": {
      "text/plain": [
       "[['sim',\n",
       "  'state',\n",
       "  'soln',\n",
       "  'dist_x',\n",
       "  'time',\n",
       "  'step',\n",
       "  'pH',\n",
       "  'pe',\n",
       "  'temp(C)',\n",
       "  'Ca(mol/kgw)',\n",
       "  'Si(mol/kgw)',\n",
       "  'portlandite',\n",
       "  'd_portlandite'],\n",
       " [1,\n",
       "  'i_soln',\n",
       "  0,\n",
       "  -99.0,\n",
       "  -99.0,\n",
       "  -99,\n",
       "  7.0000486899306775,\n",
       "  4.0,\n",
       "  25.0,\n",
       "  0.0,\n",
       "  0.0,\n",
       "  0.0,\n",
       "  0.0],\n",
       " [1,\n",
       "  'react',\n",
       "  0,\n",
       "  -99.0,\n",
       "  0.0,\n",
       "  1,\n",
       "  12.479902953321027,\n",
       "  -3.4829310219130276,\n",
       "  25.0,\n",
       "  0.019492311871470644,\n",
       "  0.0,\n",
       "  0.980507688093405,\n",
       "  -0.019492311906594943]]"
      ]
     },
     "execution_count": 2,
     "metadata": {},
     "output_type": "execute_result"
    }
   ],
   "source": [
    "c.GetSelectedOutputArray()"
   ]
  },
  {
   "cell_type": "code",
   "execution_count": 3,
   "metadata": {},
   "outputs": [
    {
     "name": "stdout",
     "output_type": "stream",
     "text": [
      "dump.0.out                \u001b[0m\u001b[01;34mp3env\u001b[0m/      Untitled1.ipynb  Untitled4.ipynb\r\n",
      "\u001b[01;34mIPhreeqcPy-v1.0.0\u001b[0m/        phr2.txt    Untitled2.ipynb  Untitled.ipynb\r\n",
      "\u001b[01;31mIPhreeqcPy-v1.0.0.tar.gz\u001b[0m  \u001b[01;34mtemplates\u001b[0m/  Untitled3.ipynb  untitled.txt\r\n"
     ]
    }
   ],
   "source": [
    "ls"
   ]
  },
  {
   "cell_type": "code",
   "execution_count": 4,
   "metadata": {},
   "outputs": [
    {
     "name": "stdout",
     "output_type": "stream",
     "text": [
      "\u001b[0m\u001b[01;34m.\u001b[0m/                  \u001b[01;31mIPhreeqcPy-v1.0.0.tar.gz\u001b[0m  \u001b[01;34mtemplates\u001b[0m/       Untitled4.ipynb\r\n",
      "\u001b[01;34m..\u001b[0m/                 \u001b[01;34m.ipynb_checkpoints\u001b[0m/       Untitled1.ipynb  Untitled.ipynb\r\n",
      "dump.0.out          \u001b[01;34mp3env\u001b[0m/                    Untitled2.ipynb  untitled.txt\r\n",
      "\u001b[01;34mIPhreeqcPy-v1.0.0\u001b[0m/  phr2.txt                  Untitled3.ipynb\r\n"
     ]
    }
   ],
   "source": [
    "ls -a"
   ]
  },
  {
   "cell_type": "code",
   "execution_count": 5,
   "metadata": {
    "scrolled": true
   },
   "outputs": [
    {
     "data": {
      "text/plain": [
       "b'SOLUTION_RAW                 0 Solution after simulation 1.\\n  -temp                      25\\n  -pressure                  1\\n  -total_h                   111.05758043863\\n  -total_o                   55.548282531222\\n  -cb                        -4.8572257327351e-17\\n  -density                   0.99848296684759\\n  -totals\\n    Ca                       0.019492311906595\\n    H(0)                     1.064626783226e-14\\n  -pH                        12.479902953321\\n  -pe                        -3.482931021913\\n  -mu                        0.049880395605196\\n  -ah2o                      0.99907896268462\\n  -mass_water                1.000000001802\\n  -soln_vol                  1.0029657584821\\n  -total_alkalinity          0.03898462381319\\n  -activities\\n    Ca                       -2.151010686852\\n    E                        3.482931021913\\n    H(0)                     -14.273832608759\\n    O(0)                     -63.64611559634\\n  -gammas\\nSOLUTION_RAW                 1 \\n  -temp                      25\\n  -pressure                  1\\n  -total_h                   111.01859581482\\n  -total_o                   55.509297907409\\n  -cb                        0\\n  -density                   0.997043013539\\n  -totals\\n    H(0)                     1.0496484525754e-18\\n  -pH                        7.0000486899307\\n  -pe                        4\\n  -mu                        1.0002589773389e-07\\n  -ah2o                      0.99999999659912\\n  -mass_water                1\\n  -soln_vol                  1.0029657579691\\n  -total_alkalinity          0\\n  -activities\\n    E                        -4\\n    H(0)                     -18.279986125802\\n    O(0)                     -55.633008193717\\n  -gammas\\nEQUILIBRIUM_PHASES_RAW       1 Pure-phase assemblage after simulation 1.\\n  # EXCHANGE_MODIFY candidates; use new_def=true #\\n  -new_def                   0\\n  -component                 portlandite\\n      # EQUILIBRIUM_PHASES_MODIFY candidate identifiers #\\n      -si                    0\\n      -moles                 0.98050768809341\\n      -force_equality        0\\n      -dissolve_only         0\\n      -precipitate_only      0\\n      # PPassemblage workspace variables #\\n      -si_org                0\\n      -delta                 0\\n      -initial_moles         1\\n      -totals                \\n  -eltList                   # List of all elements in phases and alternate reactions\\n    Ca                       1\\n    H                        2\\n    O                        2\\n  # PPassemblage workspace variables #\\n  -assemblage_totals\\nUSE mix none\\nUSE reaction none\\nUSE reaction_temperature none\\nUSE reaction_pressure none\\n'"
      ]
     },
     "execution_count": 5,
     "metadata": {},
     "output_type": "execute_result"
    }
   ],
   "source": [
    "c.GetDumpString()"
   ]
  },
  {
   "cell_type": "code",
   "execution_count": 14,
   "metadata": {},
   "outputs": [],
   "source": [
    "from IPhreeqcPy import IPhreeqc\n",
    "c = IPhreeqc()\n",
    "c.SetDumpFileOn()\n",
    "c.SetDumpStringOn()\n",
    "c.SetSelectedOutputFileOn()\n",
    "c.LoadDatabase('phreeqc.dat')\n",
    "c.RunFile('phrex2')"
   ]
  },
  {
   "cell_type": "code",
   "execution_count": 17,
   "metadata": {},
   "outputs": [
    {
     "data": {
      "text/plain": [
       "[]"
      ]
     },
     "execution_count": 17,
     "metadata": {},
     "output_type": "execute_result"
    }
   ],
   "source": [
    "c.GetSelectedOutputArray()"
   ]
  },
  {
   "cell_type": "code",
   "execution_count": null,
   "metadata": {
    "collapsed": true
   },
   "outputs": [],
   "source": []
  }
 ],
 "metadata": {
  "kernelspec": {
   "display_name": "Python 3",
   "language": "python",
   "name": "python3"
  },
  "language_info": {
   "codemirror_mode": {
    "name": "ipython",
    "version": 3
   },
   "file_extension": ".py",
   "mimetype": "text/x-python",
   "name": "python",
   "nbconvert_exporter": "python",
   "pygments_lexer": "ipython3",
   "version": "3.5.2"
  }
 },
 "nbformat": 4,
 "nbformat_minor": 2
}
