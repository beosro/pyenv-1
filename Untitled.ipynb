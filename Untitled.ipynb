{
 "cells": [
  {
   "cell_type": "code",
   "execution_count": 1,
   "metadata": {},
   "outputs": [
    {
     "data": {
      "text/html": [
       "\n",
       "    <div class=\"bk-root\">\n",
       "        <a href=\"http://bokeh.pydata.org\" target=\"_blank\" class=\"bk-logo bk-logo-small bk-logo-notebook\"></a>\n",
       "        <span id=\"45f58f69-dc7a-4075-baa4-1d1c1cb4c466\">Loading BokehJS ...</span>\n",
       "    </div>"
      ]
     },
     "metadata": {},
     "output_type": "display_data"
    },
    {
     "data": {
      "application/javascript": [
       "\n",
       "(function(global) {\n",
       "  function now() {\n",
       "    return new Date();\n",
       "  }\n",
       "\n",
       "  var force = true;\n",
       "\n",
       "  if (typeof (window._bokeh_onload_callbacks) === \"undefined\" || force === true) {\n",
       "    window._bokeh_onload_callbacks = [];\n",
       "    window._bokeh_is_loading = undefined;\n",
       "  }\n",
       "\n",
       "\n",
       "  \n",
       "  if (typeof (window._bokeh_timeout) === \"undefined\" || force === true) {\n",
       "    window._bokeh_timeout = Date.now() + 5000;\n",
       "    window._bokeh_failed_load = false;\n",
       "  }\n",
       "\n",
       "  var NB_LOAD_WARNING = {'data': {'text/html':\n",
       "     \"<div style='background-color: #fdd'>\\n\"+\n",
       "     \"<p>\\n\"+\n",
       "     \"BokehJS does not appear to have successfully loaded. If loading BokehJS from CDN, this \\n\"+\n",
       "     \"may be due to a slow or bad network connection. Possible fixes:\\n\"+\n",
       "     \"</p>\\n\"+\n",
       "     \"<ul>\\n\"+\n",
       "     \"<li>re-rerun `output_notebook()` to attempt to load from CDN again, or</li>\\n\"+\n",
       "     \"<li>use INLINE resources instead, as so:</li>\\n\"+\n",
       "     \"</ul>\\n\"+\n",
       "     \"<code>\\n\"+\n",
       "     \"from bokeh.resources import INLINE\\n\"+\n",
       "     \"output_notebook(resources=INLINE)\\n\"+\n",
       "     \"</code>\\n\"+\n",
       "     \"</div>\"}};\n",
       "\n",
       "  function display_loaded() {\n",
       "    if (window.Bokeh !== undefined) {\n",
       "      var el = document.getElementById(\"45f58f69-dc7a-4075-baa4-1d1c1cb4c466\");\n",
       "      el.textContent = \"BokehJS \" + Bokeh.version + \" successfully loaded.\";\n",
       "    } else if (Date.now() < window._bokeh_timeout) {\n",
       "      setTimeout(display_loaded, 100)\n",
       "    }\n",
       "  }\n",
       "\n",
       "  function run_callbacks() {\n",
       "    try {\n",
       "      window._bokeh_onload_callbacks.forEach(function(callback) { callback() });\n",
       "    }\n",
       "    finally {\n",
       "      delete window._bokeh_onload_callbacks\n",
       "    }\n",
       "    console.info(\"Bokeh: all callbacks have finished\");\n",
       "  }\n",
       "\n",
       "  function load_libs(js_urls, callback) {\n",
       "    window._bokeh_onload_callbacks.push(callback);\n",
       "    if (window._bokeh_is_loading > 0) {\n",
       "      console.log(\"Bokeh: BokehJS is being loaded, scheduling callback at\", now());\n",
       "      return null;\n",
       "    }\n",
       "    if (js_urls == null || js_urls.length === 0) {\n",
       "      run_callbacks();\n",
       "      return null;\n",
       "    }\n",
       "    console.log(\"Bokeh: BokehJS not loaded, scheduling load and callback at\", now());\n",
       "    window._bokeh_is_loading = js_urls.length;\n",
       "    for (var i = 0; i < js_urls.length; i++) {\n",
       "      var url = js_urls[i];\n",
       "      var s = document.createElement('script');\n",
       "      s.src = url;\n",
       "      s.async = false;\n",
       "      s.onreadystatechange = s.onload = function() {\n",
       "        window._bokeh_is_loading--;\n",
       "        if (window._bokeh_is_loading === 0) {\n",
       "          console.log(\"Bokeh: all BokehJS libraries loaded\");\n",
       "          run_callbacks()\n",
       "        }\n",
       "      };\n",
       "      s.onerror = function() {\n",
       "        console.warn(\"failed to load library \" + url);\n",
       "      };\n",
       "      console.log(\"Bokeh: injecting script tag for BokehJS library: \", url);\n",
       "      document.getElementsByTagName(\"head\")[0].appendChild(s);\n",
       "    }\n",
       "  };var element = document.getElementById(\"45f58f69-dc7a-4075-baa4-1d1c1cb4c466\");\n",
       "  if (element == null) {\n",
       "    console.log(\"Bokeh: ERROR: autoload.js configured with elementid '45f58f69-dc7a-4075-baa4-1d1c1cb4c466' but no matching script tag was found. \")\n",
       "    return false;\n",
       "  }\n",
       "\n",
       "  var js_urls = [\"https://cdn.pydata.org/bokeh/release/bokeh-0.12.6.min.js\", \"https://cdn.pydata.org/bokeh/release/bokeh-widgets-0.12.6.min.js\"];\n",
       "\n",
       "  var inline_js = [\n",
       "    function(Bokeh) {\n",
       "      Bokeh.set_log_level(\"info\");\n",
       "    },\n",
       "    \n",
       "    function(Bokeh) {\n",
       "      \n",
       "    },\n",
       "    \n",
       "    function(Bokeh) {\n",
       "      \n",
       "      document.getElementById(\"45f58f69-dc7a-4075-baa4-1d1c1cb4c466\").textContent = \"BokehJS is loading...\";\n",
       "    },\n",
       "    function(Bokeh) {\n",
       "      console.log(\"Bokeh: injecting CSS: https://cdn.pydata.org/bokeh/release/bokeh-0.12.6.min.css\");\n",
       "      Bokeh.embed.inject_css(\"https://cdn.pydata.org/bokeh/release/bokeh-0.12.6.min.css\");\n",
       "      console.log(\"Bokeh: injecting CSS: https://cdn.pydata.org/bokeh/release/bokeh-widgets-0.12.6.min.css\");\n",
       "      Bokeh.embed.inject_css(\"https://cdn.pydata.org/bokeh/release/bokeh-widgets-0.12.6.min.css\");\n",
       "    }\n",
       "  ];\n",
       "\n",
       "  function run_inline_js() {\n",
       "    \n",
       "    if ((window.Bokeh !== undefined) || (force === true)) {\n",
       "      for (var i = 0; i < inline_js.length; i++) {\n",
       "        inline_js[i](window.Bokeh);\n",
       "      }if (force === true) {\n",
       "        display_loaded();\n",
       "      }} else if (Date.now() < window._bokeh_timeout) {\n",
       "      setTimeout(run_inline_js, 100);\n",
       "    } else if (!window._bokeh_failed_load) {\n",
       "      console.log(\"Bokeh: BokehJS failed to load within specified timeout.\");\n",
       "      window._bokeh_failed_load = true;\n",
       "    } else if (force !== true) {\n",
       "      var cell = $(document.getElementById(\"45f58f69-dc7a-4075-baa4-1d1c1cb4c466\")).parents('.cell').data().cell;\n",
       "      cell.output_area.append_execute_result(NB_LOAD_WARNING)\n",
       "    }\n",
       "\n",
       "  }\n",
       "\n",
       "  if (window._bokeh_is_loading === 0) {\n",
       "    console.log(\"Bokeh: BokehJS loaded, going straight to plotting\");\n",
       "    run_inline_js();\n",
       "  } else {\n",
       "    load_libs(js_urls, function() {\n",
       "      console.log(\"Bokeh: BokehJS plotting callback run at\", now());\n",
       "      run_inline_js();\n",
       "    });\n",
       "  }\n",
       "}(this));"
      ]
     },
     "metadata": {},
     "output_type": "display_data"
    }
   ],
   "source": [
    "from ipywidgets import interact\n",
    "import numpy as np\n",
    "\n",
    "from bokeh.io import push_notebook, show, output_notebook\n",
    "from bokeh.plotting import figure\n",
    "output_notebook()"
   ]
  },
  {
   "cell_type": "code",
   "execution_count": 5,
   "metadata": {},
   "outputs": [
    {
     "ename": "Exception",
     "evalue": "3 errors occured.\nERROR: Phase not found in database, Fluorite.\nERROR: Phase not found in database, Kaolinite.\nERROR: Phase not found in database, Quartz.\nERROR: Calculations terminating due to input errors.\n",
     "output_type": "error",
     "traceback": [
      "\u001b[0;31m---------------------------------------------------------------------------\u001b[0m",
      "\u001b[0;31mException\u001b[0m                                 Traceback (most recent call last)",
      "\u001b[0;32m<ipython-input-5-6c9cb7161072>\u001b[0m in \u001b[0;36m<module>\u001b[0;34m()\u001b[0m\n\u001b[1;32m     22\u001b[0m \"\"\"\n\u001b[1;32m     23\u001b[0m ) # Do some Phrqc input\n\u001b[0;32m---> 24\u001b[0;31m \u001b[0mx\u001b[0m\u001b[0;34m.\u001b[0m\u001b[0mRunAccumulated\u001b[0m\u001b[0;34m(\u001b[0m\u001b[0;34m)\u001b[0m \u001b[0;31m#Run phreeqc\u001b[0m\u001b[0;34m\u001b[0m\u001b[0m\n\u001b[0m\u001b[1;32m     25\u001b[0m x.RunString(\n\u001b[1;32m     26\u001b[0m \"\"\"\n",
      "\u001b[0;32m~/p3/p3env/lib/python3.5/site-packages/IPhreeqcPy.py\u001b[0m in \u001b[0;36mRunAccumulated\u001b[0;34m(self)\u001b[0m\n\u001b[1;32m    181\u001b[0m         \u001b[0merrors\u001b[0m \u001b[0;34m=\u001b[0m \u001b[0mself\u001b[0m\u001b[0;34m.\u001b[0m\u001b[0m_RunAccumulated\u001b[0m\u001b[0;34m(\u001b[0m\u001b[0mself\u001b[0m\u001b[0;34m.\u001b[0m\u001b[0mid\u001b[0m\u001b[0;34m)\u001b[0m\u001b[0;34m\u001b[0m\u001b[0m\n\u001b[1;32m    182\u001b[0m         \u001b[0;32mif\u001b[0m \u001b[0merrors\u001b[0m \u001b[0;34m!=\u001b[0m \u001b[0;36m0\u001b[0m\u001b[0;34m:\u001b[0m\u001b[0;34m\u001b[0m\u001b[0m\n\u001b[0;32m--> 183\u001b[0;31m             \u001b[0mself\u001b[0m\u001b[0;34m.\u001b[0m\u001b[0m_RaiseStringError\u001b[0m\u001b[0;34m(\u001b[0m\u001b[0merrors\u001b[0m\u001b[0;34m)\u001b[0m\u001b[0;34m\u001b[0m\u001b[0m\n\u001b[0m\u001b[1;32m    184\u001b[0m \u001b[0;34m\u001b[0m\u001b[0m\n\u001b[1;32m    185\u001b[0m     \u001b[0;32mdef\u001b[0m \u001b[0mAddError\u001b[0m\u001b[0;34m(\u001b[0m\u001b[0mself\u001b[0m\u001b[0;34m,\u001b[0m \u001b[0mphc_error_msg\u001b[0m\u001b[0;34m)\u001b[0m\u001b[0;34m:\u001b[0m\u001b[0;34m\u001b[0m\u001b[0m\n",
      "\u001b[0;32m~/p3/p3env/lib/python3.5/site-packages/IPhreeqcPy.py\u001b[0m in \u001b[0;36m_RaiseStringError\u001b[0;34m(self, errors)\u001b[0m\n\u001b[1;32m    165\u001b[0m         \u001b[0;32melse\u001b[0m\u001b[0;34m:\u001b[0m\u001b[0;34m\u001b[0m\u001b[0m\n\u001b[1;32m    166\u001b[0m             \u001b[0mmsg\u001b[0m \u001b[0;34m=\u001b[0m \u001b[0;34m'Wrong error number.'\u001b[0m\u001b[0;34m\u001b[0m\u001b[0m\n\u001b[0;32m--> 167\u001b[0;31m         \u001b[0;32mraise\u001b[0m \u001b[0mException\u001b[0m\u001b[0;34m(\u001b[0m\u001b[0mmsg\u001b[0m \u001b[0;34m+\u001b[0m \u001b[0mself\u001b[0m\u001b[0;34m.\u001b[0m\u001b[0mGetErrorString\u001b[0m\u001b[0;34m(\u001b[0m\u001b[0;34m)\u001b[0m\u001b[0;34m)\u001b[0m\u001b[0;34m\u001b[0m\u001b[0m\n\u001b[0m\u001b[1;32m    168\u001b[0m \u001b[0;34m\u001b[0m\u001b[0m\n\u001b[1;32m    169\u001b[0m     \u001b[0;32mdef\u001b[0m \u001b[0mAccumulateLine\u001b[0m\u001b[0;34m(\u001b[0m\u001b[0mself\u001b[0m\u001b[0;34m,\u001b[0m \u001b[0mline\u001b[0m\u001b[0;34m)\u001b[0m\u001b[0;34m:\u001b[0m\u001b[0;34m\u001b[0m\u001b[0m\n",
      "\u001b[0;31mException\u001b[0m: 3 errors occured.\nERROR: Phase not found in database, Fluorite.\nERROR: Phase not found in database, Kaolinite.\nERROR: Phase not found in database, Quartz.\nERROR: Calculations terminating due to input errors.\n"
     ]
    }
   ],
   "source": [
    "from IPhreeqcPy import IPhreeqc\n",
    "x=IPhreeqc() #initalize IPhreeqc object\n",
    "x.LoadDatabase('cemdata07.dat') # Load database\n",
    "x.SetDumpStringOn()   #set DumpString output on\n",
    "x.AccumulateLine(\n",
    "\"\"\"\n",
    "SOLUTION 1\n",
    " pH 7 charge\n",
    " C 1 CO2(g) -1\n",
    " Ca 1 Calcite\n",
    " F 1 Fluorite\n",
    "\n",
    "REACTION\n",
    " NaAlSi3O8 1\n",
    " 7.5e-3 in 15\n",
    " \n",
    "EQUILIBRIUM_PHASES 1\n",
    " Fluorite\n",
    " Calcite\n",
    " Quartz 0 0\n",
    " Kaolinite 0 0\n",
    "\"\"\"\n",
    ") # Do some Phrqc input\n",
    "x.RunAccumulated() #Run phreeqc\n",
    "x.RunString(\n",
    "\"\"\"\n",
    "use solution 1\n",
    "use Equilibrium phases 1\n",
    "use solution 0\n",
    "Advection\n",
    "-cells 1\n",
    "-shifts 10000\n",
    "-punch_frequency 500\n",
    "\"\"\"\n",
    ") #You can also run phreeqc like this\n",
    "selot = (x.GetSelectedOutputArray()) #get selected output\n",
    "#print(x.GetDumpString()) #get dump string"
   ]
  },
  {
   "cell_type": "code",
   "execution_count": 10,
   "metadata": {},
   "outputs": [
    {
     "data": {
      "text/plain": [
       "list"
      ]
     },
     "execution_count": 10,
     "metadata": {},
     "output_type": "execute_result"
    }
   ],
   "source": []
  },
  {
   "cell_type": "code",
   "execution_count": 13,
   "metadata": {},
   "outputs": [
    {
     "data": {
      "text/plain": [
       "22"
      ]
     },
     "execution_count": 13,
     "metadata": {},
     "output_type": "execute_result"
    }
   ],
   "source": [
    "len(selot)"
   ]
  },
  {
   "cell_type": "code",
   "execution_count": 14,
   "metadata": {},
   "outputs": [
    {
     "data": {
      "text/plain": [
       "['sim',\n",
       " 'state',\n",
       " 'soln',\n",
       " 'dist_x',\n",
       " 'time',\n",
       " 'step',\n",
       " 'pH',\n",
       " 'pe',\n",
       " 'temp(C)',\n",
       " 'Ca(mol/kgw)',\n",
       " 'Si(mol/kgw)',\n",
       " 'portlandite',\n",
       " 'd_portlandite']"
      ]
     },
     "execution_count": 14,
     "metadata": {},
     "output_type": "execute_result"
    }
   ],
   "source": [
    "selot[0]"
   ]
  },
  {
   "cell_type": "code",
   "execution_count": 19,
   "metadata": {},
   "outputs": [
    {
     "data": {
      "text/plain": [
       "[1,\n",
       " 'advect',\n",
       " 1,\n",
       " 1.0,\n",
       " 2000.0,\n",
       " 2000,\n",
       " 12.479902953321027,\n",
       " -3.5089724620684857,\n",
       " 25.0,\n",
       " 0.01949231187147066,\n",
       " 0.0,\n",
       " 0.980507688093405,\n",
       " 0.0]"
      ]
     },
     "execution_count": 19,
     "metadata": {},
     "output_type": "execute_result"
    }
   ],
   "source": [
    "selot[5]"
   ]
  },
  {
   "cell_type": "code",
   "execution_count": 20,
   "metadata": {
    "collapsed": true
   },
   "outputs": [],
   "source": [
    "import numpy as np"
   ]
  },
  {
   "cell_type": "code",
   "execution_count": 22,
   "metadata": {
    "collapsed": true
   },
   "outputs": [],
   "source": [
    "b = np.array(selot)"
   ]
  },
  {
   "cell_type": "code",
   "execution_count": 26,
   "metadata": {
    "collapsed": true
   },
   "outputs": [],
   "source": [
    "c = b[1:]"
   ]
  },
  {
   "cell_type": "code",
   "execution_count": 36,
   "metadata": {},
   "outputs": [
    {
     "data": {
      "text/plain": [
       "array(['0.0', '500.0', '1000.0', '1500.0', '2000.0', '2500.0', '3000.0',\n",
       "       '3500.0', '4000.0', '4500.0', '5000.0', '5500.0', '6000.0',\n",
       "       '6500.0', '7000.0', '7500.0', '8000.0', '8500.0', '9000.0',\n",
       "       '9500.0', '10000.0'],\n",
       "      dtype='<U19')"
      ]
     },
     "execution_count": 36,
     "metadata": {},
     "output_type": "execute_result"
    }
   ],
   "source": [
    "c[:,4]"
   ]
  },
  {
   "cell_type": "code",
   "execution_count": null,
   "metadata": {
    "collapsed": true
   },
   "outputs": [],
   "source": []
  },
  {
   "cell_type": "code",
   "execution_count": null,
   "metadata": {
    "collapsed": true
   },
   "outputs": [],
   "source": []
  },
  {
   "cell_type": "code",
   "execution_count": 37,
   "metadata": {},
   "outputs": [
    {
     "data": {
      "text/plain": [
       "(array(['0.0', '500.0', '1000.0', '1500.0', '2000.0', '2500.0', '3000.0',\n",
       "        '3500.0', '4000.0', '4500.0', '5000.0', '5500.0', '6000.0',\n",
       "        '6500.0', '7000.0', '7500.0', '8000.0', '8500.0', '9000.0',\n",
       "        '9500.0', '10000.0'],\n",
       "       dtype='<U19'),\n",
       " array(['1', 'advect', '1', '1.0', '2000.0', '2000', '12.479902953321027',\n",
       "        '-3.5089724620684857', '25.0', '0.01949231187147066', '0.0',\n",
       "        '0.980507688093405', '0.0'],\n",
       "       dtype='<U19'))"
      ]
     },
     "execution_count": 37,
     "metadata": {},
     "output_type": "execute_result"
    }
   ],
   "source": [
    "a = 4\n",
    "c[:,a],b[a+1]"
   ]
  },
  {
   "cell_type": "code",
   "execution_count": 38,
   "metadata": {
    "collapsed": true
   },
   "outputs": [],
   "source": [
    "labes = b[0]"
   ]
  },
  {
   "cell_type": "code",
   "execution_count": 39,
   "metadata": {},
   "outputs": [
    {
     "data": {
      "text/plain": [
       "array(['sim', 'state', 'soln', 'dist_x', 'time', 'step', 'pH', 'pe',\n",
       "       'temp(C)', 'Ca(mol/kgw)', 'Si(mol/kgw)', 'portlandite',\n",
       "       'd_portlandite'],\n",
       "      dtype='<U19')"
      ]
     },
     "execution_count": 39,
     "metadata": {},
     "output_type": "execute_result"
    }
   ],
   "source": [
    "labes"
   ]
  },
  {
   "cell_type": "code",
   "execution_count": 41,
   "metadata": {},
   "outputs": [
    {
     "data": {
      "text/plain": [
       "'sim'"
      ]
     },
     "execution_count": 41,
     "metadata": {},
     "output_type": "execute_result"
    }
   ],
   "source": [
    "labes[0]"
   ]
  },
  {
   "cell_type": "code",
   "execution_count": 58,
   "metadata": {},
   "outputs": [
    {
     "ename": "IndexError",
     "evalue": "index 13 is out of bounds for axis 0 with size 13",
     "output_type": "error",
     "traceback": [
      "\u001b[0;31m---------------------------------------------------------------------------\u001b[0m",
      "\u001b[0;31mIndexError\u001b[0m                                Traceback (most recent call last)",
      "\u001b[0;32m<ipython-input-58-f151df11146f>\u001b[0m in \u001b[0;36m<module>\u001b[0;34m()\u001b[0m\n\u001b[1;32m      1\u001b[0m \u001b[0ma\u001b[0m \u001b[0;34m=\u001b[0m \u001b[0;36m13\u001b[0m\u001b[0;34m\u001b[0m\u001b[0m\n\u001b[0;32m----> 2\u001b[0;31m \u001b[0mlabes\u001b[0m\u001b[0;34m[\u001b[0m\u001b[0ma\u001b[0m\u001b[0;34m]\u001b[0m\u001b[0;34m,\u001b[0m\u001b[0mc\u001b[0m\u001b[0;34m[\u001b[0m\u001b[0;34m:\u001b[0m\u001b[0;34m,\u001b[0m\u001b[0ma\u001b[0m\u001b[0;34m]\u001b[0m\u001b[0;34m\u001b[0m\u001b[0m\n\u001b[0m",
      "\u001b[0;31mIndexError\u001b[0m: index 13 is out of bounds for axis 0 with size 13"
     ]
    }
   ],
   "source": [
    "a = 13\n",
    "labes[a],c[:,a]"
   ]
  },
  {
   "cell_type": "code",
   "execution_count": 7,
   "metadata": {},
   "outputs": [
    {
     "ename": "NameError",
     "evalue": "name 'IPhreeqc' is not defined",
     "output_type": "error",
     "traceback": [
      "\u001b[0;31m---------------------------------------------------------------------------\u001b[0m",
      "\u001b[0;31mNameError\u001b[0m                                 Traceback (most recent call last)",
      "\u001b[0;32m<ipython-input-7-9012fc42c57d>\u001b[0m in \u001b[0;36m<module>\u001b[0;34m()\u001b[0m\n\u001b[0;32m----> 1\u001b[0;31m \u001b[0mx\u001b[0m\u001b[0;34m=\u001b[0m\u001b[0mIPhreeqc\u001b[0m\u001b[0;34m(\u001b[0m\u001b[0;34m)\u001b[0m \u001b[0;31m#initalize IPhreeqc object\u001b[0m\u001b[0;34m\u001b[0m\u001b[0m\n\u001b[0m\u001b[1;32m      2\u001b[0m \u001b[0mx\u001b[0m\u001b[0;34m.\u001b[0m\u001b[0mLoadDatabase\u001b[0m\u001b[0;34m(\u001b[0m\u001b[0;34m'phreeqc.dat'\u001b[0m\u001b[0;34m)\u001b[0m \u001b[0;31m# Load database\u001b[0m\u001b[0;34m\u001b[0m\u001b[0m\n\u001b[1;32m      3\u001b[0m \u001b[0mx\u001b[0m\u001b[0;34m.\u001b[0m\u001b[0mSetDumpStringOn\u001b[0m\u001b[0;34m(\u001b[0m\u001b[0;34m)\u001b[0m   \u001b[0;31m#set DumpString output on\u001b[0m\u001b[0;34m\u001b[0m\u001b[0m\n\u001b[1;32m      4\u001b[0m x.AccumulateLine(\"\"\"\n\u001b[1;32m      5\u001b[0m \u001b[0mSOLUTION\u001b[0m \u001b[0;36m1\u001b[0m\u001b[0;34m\u001b[0m\u001b[0m\n",
      "\u001b[0;31mNameError\u001b[0m: name 'IPhreeqc' is not defined"
     ]
    }
   ],
   "source": [
    "x=IPhreeqc() #initalize IPhreeqc object\n",
    "x.LoadDatabase('phreeqc.dat') # Load database\n",
    "x.SetDumpStringOn()   #set DumpString output on\n",
    "x.AccumulateLine(\"\"\"\n",
    "SOLUTION 1\n",
    "pH 7 charge\n",
    "C 1 CO2(g) -1\n",
    "Ca 1 Calcite\n",
    "F 1 Fluorite\n",
    "\n",
    "REACTION\n",
    "NaAlSi3O8 1\n",
    "7.5e-3 in 15\n",
    " \n",
    "EQUILIBRIUM_PHASES 1\n",
    "Fluorite\n",
    "Calcite\n",
    "Quartz 0 0\n",
    "Kaolinite 0 0\n",
    "\n",
    "selected_output\n",
    "-file abstracted_model.xls\n",
    "-equilibrium_phases Fluorite\n",
    "Dump\n",
    "-all\n",
    "end\n",
    "\"\"\")\n",
    "x.RunAccumulated()\n",
    "out = x.GetSelectedOutputArray()"
   ]
  },
  {
   "cell_type": "code",
   "execution_count": 70,
   "metadata": {},
   "outputs": [
    {
     "data": {
      "text/plain": [
       "[['sim',\n",
       "  'state',\n",
       "  'soln',\n",
       "  'dist_x',\n",
       "  'time',\n",
       "  'step',\n",
       "  'pH',\n",
       "  'pe',\n",
       "  'Fluorite',\n",
       "  'd_Fluorite'],\n",
       " [1, 'i_soln', 1, -99.0, -99.0, -99, 6.644325196397521, 4.0, 0.0, 0.0],\n",
       " [1,\n",
       "  'react',\n",
       "  1,\n",
       "  -99.0,\n",
       "  0.0,\n",
       "  1,\n",
       "  6.6742206763592735,\n",
       "  11.196947375689074,\n",
       "  9.999998073771778,\n",
       "  -1.9262282222598515e-06],\n",
       " [1,\n",
       "  'react',\n",
       "  1,\n",
       "  -99.0,\n",
       "  0.0,\n",
       "  2,\n",
       "  6.706436424726654,\n",
       "  11.18747402322674,\n",
       "  9.999996016058931,\n",
       "  -3.983941068597119e-06],\n",
       " [1,\n",
       "  'react',\n",
       "  1,\n",
       "  -99.0,\n",
       "  0.0,\n",
       "  3,\n",
       "  6.7413545483228745,\n",
       "  11.270580432688012,\n",
       "  9.999993688274772,\n",
       "  -6.311725227803322e-06],\n",
       " [1,\n",
       "  'react',\n",
       "  1,\n",
       "  -99.0,\n",
       "  0.0,\n",
       "  4,\n",
       "  6.779456716492196,\n",
       "  11.047186886350447,\n",
       "  9.999991028430307,\n",
       "  -8.971569693372317e-06],\n",
       " [1,\n",
       "  'react',\n",
       "  1,\n",
       "  -99.0,\n",
       "  0.0,\n",
       "  5,\n",
       "  6.8213643300528375,\n",
       "  11.13566881047876,\n",
       "  9.999987952877731,\n",
       "  -1.2047122268654675e-05],\n",
       " [1,\n",
       "  'react',\n",
       "  1,\n",
       "  -99.0,\n",
       "  0.0,\n",
       "  6,\n",
       "  6.867897825437149,\n",
       "  11.005268254486978,\n",
       "  9.999984345596653,\n",
       "  -1.5654403346943013e-05],\n",
       " [1,\n",
       "  'react',\n",
       "  1,\n",
       "  -99.0,\n",
       "  0.0,\n",
       "  7,\n",
       "  6.920170841763988,\n",
       "  11.043451361105465,\n",
       "  9.999980040262415,\n",
       "  -1.9959737585395487e-05],\n",
       " [1,\n",
       "  'react',\n",
       "  1,\n",
       "  -99.0,\n",
       "  0.0,\n",
       "  8,\n",
       "  6.979746812430473,\n",
       "  -0.7970671229269916,\n",
       "  9.999974788600486,\n",
       "  -2.5211399513835886e-05],\n",
       " [1,\n",
       "  'react',\n",
       "  1,\n",
       "  -99.0,\n",
       "  0.0,\n",
       "  9,\n",
       "  7.048914354786285,\n",
       "  10.839240745732758,\n",
       "  9.999968200796104,\n",
       "  -3.1799203895843675e-05],\n",
       " [1,\n",
       "  'react',\n",
       "  1,\n",
       "  -99.0,\n",
       "  0.0,\n",
       "  10,\n",
       "  7.131206213544551,\n",
       "  10.822601276396451,\n",
       "  9.999959623766618,\n",
       "  -4.0376233382488635e-05],\n",
       " [1,\n",
       "  'react',\n",
       "  1,\n",
       "  -99.0,\n",
       "  0.0,\n",
       "  11,\n",
       "  7.232465392231307,\n",
       "  10.234704727867799,\n",
       "  9.999947865047385,\n",
       "  -5.213495261457979e-05],\n",
       " [1,\n",
       "  'react',\n",
       "  1,\n",
       "  -99.0,\n",
       "  0.0,\n",
       "  12,\n",
       "  7.363285005512218,\n",
       "  10.572655672782796,\n",
       "  9.999930473574233,\n",
       "  -6.952642576685264e-05],\n",
       " [1,\n",
       "  'react',\n",
       "  1,\n",
       "  -99.0,\n",
       "  0.0,\n",
       "  13,\n",
       "  7.545322837670049,\n",
       "  10.286973372518919,\n",
       "  9.99990148822808,\n",
       "  -9.851177192032878e-05],\n",
       " [1,\n",
       "  'react',\n",
       "  1,\n",
       "  -99.0,\n",
       "  0.0,\n",
       "  14,\n",
       "  7.828007862372028,\n",
       "  10.203014966612981,\n",
       "  9.999842813276143,\n",
       "  -0.0001571867238574498],\n",
       " [1,\n",
       "  'react',\n",
       "  1,\n",
       "  -99.0,\n",
       "  0.0,\n",
       "  15,\n",
       "  8.280287425771705,\n",
       "  9.598170702938575,\n",
       "  9.999701158482686,\n",
       "  -0.0002988415173135195]]"
      ]
     },
     "execution_count": 70,
     "metadata": {},
     "output_type": "execute_result"
    }
   ],
   "source": [
    "out_nolab = "
   ]
  },
  {
   "cell_type": "code",
   "execution_count": null,
   "metadata": {
    "collapsed": true
   },
   "outputs": [],
   "source": []
  }
 ],
 "metadata": {
  "kernelspec": {
   "display_name": "Python 3",
   "language": "python",
   "name": "python3"
  },
  "language_info": {
   "codemirror_mode": {
    "name": "ipython",
    "version": 3
   },
   "file_extension": ".py",
   "mimetype": "text/x-python",
   "name": "python",
   "nbconvert_exporter": "python",
   "pygments_lexer": "ipython3",
   "version": "3.5.2"
  }
 },
 "nbformat": 4,
 "nbformat_minor": 2
}
