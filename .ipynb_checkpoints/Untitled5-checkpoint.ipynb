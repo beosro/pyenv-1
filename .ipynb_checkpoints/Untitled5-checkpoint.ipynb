{
 "cells": [
  {
   "cell_type": "code",
   "execution_count": 13,
   "metadata": {
    "collapsed": true
   },
   "outputs": [],
   "source": [
    "from IPhreeqcPy import IPhreeqc"
   ]
  },
  {
   "cell_type": "code",
   "execution_count": 14,
   "metadata": {
    "collapsed": true
   },
   "outputs": [],
   "source": [
    "c = IPhreeqc()"
   ]
  },
  {
   "cell_type": "code",
   "execution_count": 15,
   "metadata": {},
   "outputs": [],
   "source": [
    "c.LoadDatabase('minteq.dat')"
   ]
  },
  {
   "cell_type": "code",
   "execution_count": 16,
   "metadata": {
    "collapsed": true
   },
   "outputs": [],
   "source": [
    "c.SetDumpStringOn()"
   ]
  },
  {
   "cell_type": "code",
   "execution_count": 31,
   "metadata": {},
   "outputs": [],
   "source": [
    "c.AccumulateLine(\n",
    "\"\"\"\n",
    "SOLUTION 1  pH prediction\n",
    "    -t 25\n",
    "    -pH 8.22 charge\n",
    "    -water 1.0\n",
    "    -u mmol/L\n",
    "    citrate 10.\n",
    "save solution 1\n",
    "selected ouput\n",
    "    -file ph.out\n",
    "dump\n",
    "    -file ph.dmp\n",
    "    -all\n",
    "end\n",
    "\"\"\"\n",
    ")\n"
   ]
  },
  {
   "cell_type": "code",
   "execution_count": 27,
   "metadata": {},
   "outputs": [
    {
     "ename": "AttributeError",
     "evalue": "'IPhreeqc' object has no attribute 'test'",
     "output_type": "error",
     "traceback": [
      "\u001b[0;31m---------------------------------------------------------------------------\u001b[0m",
      "\u001b[0;31mAttributeError\u001b[0m                            Traceback (most recent call last)",
      "\u001b[0;32m<ipython-input-27-65f39d357cec>\u001b[0m in \u001b[0;36m<module>\u001b[0;34m()\u001b[0m\n\u001b[0;32m----> 1\u001b[0;31m \u001b[0mc\u001b[0m\u001b[0;34m.\u001b[0m\u001b[0mtest\u001b[0m\u001b[0;34m(\u001b[0m\u001b[0;34m)\u001b[0m\u001b[0;34m\u001b[0m\u001b[0m\n\u001b[0m",
      "\u001b[0;31mAttributeError\u001b[0m: 'IPhreeqc' object has no attribute 'test'"
     ]
    }
   ],
   "source": [
    "c.test()"
   ]
  },
  {
   "cell_type": "raw",
   "metadata": {},
   "source": [
    "print c.__doc__"
   ]
  },
  {
   "cell_type": "code",
   "execution_count": 42,
   "metadata": {
    "collapsed": true
   },
   "outputs": [],
   "source": [
    "d = IPhreeqc()"
   ]
  },
  {
   "cell_type": "code",
   "execution_count": 43,
   "metadata": {
    "collapsed": true
   },
   "outputs": [],
   "source": [
    "d.LoadDatabase('wateq4f.dat')"
   ]
  },
  {
   "cell_type": "code",
   "execution_count": 44,
   "metadata": {
    "collapsed": true
   },
   "outputs": [],
   "source": [
    "d.SetDumpFileOn()"
   ]
  },
  {
   "cell_type": "code",
   "execution_count": 45,
   "metadata": {
    "collapsed": true
   },
   "outputs": [],
   "source": [
    "d.SetSelectedOutputFileOn()"
   ]
  },
  {
   "cell_type": "code",
   "execution_count": 46,
   "metadata": {
    "collapsed": true
   },
   "outputs": [],
   "source": [
    "d.RunFile('tutorial.phr')"
   ]
  },
  {
   "cell_type": "code",
   "execution_count": 47,
   "metadata": {},
   "outputs": [
    {
     "data": {
      "text/plain": [
       "[]"
      ]
     },
     "execution_count": 47,
     "metadata": {},
     "output_type": "execute_result"
    }
   ],
   "source": [
    "d.GetSelectedOutputArray()"
   ]
  },
  {
   "cell_type": "code",
   "execution_count": 48,
   "metadata": {},
   "outputs": [
    {
     "name": "stdout",
     "output_type": "stream",
     "text": [
      "dump.1.out                phrex2        Untitled1.ipynb  Untitled6.ipynb\r\n",
      "\u001b[0m\u001b[01;34mIPhreeqcPy-v1.0.0\u001b[0m/        phrex.txt     Untitled2.ipynb  Untitled.ipynb\r\n",
      "\u001b[01;31mIPhreeqcPy-v1.0.0.tar.gz\u001b[0m  \u001b[01;34mtemplates\u001b[0m/    Untitled3.ipynb  untitled.txt\r\n",
      "\u001b[01;34mp3env\u001b[0m/                    test.out      Untitled4.ipynb\r\n",
      "phr2.txt                  tutorial.phr  Untitled5.ipynb\r\n"
     ]
    }
   ],
   "source": [
    "ls"
   ]
  },
  {
   "cell_type": "code",
   "execution_count": 26,
   "metadata": {},
   "outputs": [
    {
     "ename": "NameError",
     "evalue": "name 'test' is not defined",
     "output_type": "error",
     "traceback": [
      "\u001b[0;31m---------------------------------------------------------------------------\u001b[0m",
      "\u001b[0;31mNameError\u001b[0m                                 Traceback (most recent call last)",
      "\u001b[0;32m<ipython-input-26-0cebb626e1f2>\u001b[0m in \u001b[0;36m<module>\u001b[0;34m()\u001b[0m\n\u001b[0;32m----> 1\u001b[0;31m \u001b[0mtest\u001b[0m\u001b[0;34m.\u001b[0m\u001b[0mout\u001b[0m\u001b[0;34m\u001b[0m\u001b[0m\n\u001b[0m",
      "\u001b[0;31mNameError\u001b[0m: name 'test' is not defined"
     ]
    }
   ],
   "source": []
  },
  {
   "cell_type": "code",
   "execution_count": 49,
   "metadata": {
    "collapsed": true
   },
   "outputs": [],
   "source": [
    "e = IPhreeqc()"
   ]
  },
  {
   "cell_type": "code",
   "execution_count": 51,
   "metadata": {
    "collapsed": true
   },
   "outputs": [],
   "source": [
    "e.SetSelectedOutputFileOn()"
   ]
  },
  {
   "cell_type": "code",
   "execution_count": 52,
   "metadata": {
    "collapsed": true
   },
   "outputs": [],
   "source": [
    "e.LoadDatabase('wateq4f.dat')"
   ]
  },
  {
   "cell_type": "code",
   "execution_count": 53,
   "metadata": {
    "collapsed": true
   },
   "outputs": [],
   "source": [
    "e.RunFile('gypsum')"
   ]
  },
  {
   "cell_type": "code",
   "execution_count": 55,
   "metadata": {},
   "outputs": [
    {
     "data": {
      "text/plain": [
       "[['Na(mol/kgw)', 'S(6)(mol/kgw)'],\n",
       " [0.0, 0.015649756393342193],\n",
       " [0.0999208515460368, 0.02196618860422608],\n",
       " [0.19981377671594946, 0.025841408775123163],\n",
       " [0.2996886257728235, 0.028805377040004448],\n",
       " [0.39955001207944785, 0.03122144312988203],\n",
       " [0.49940092523281876, 0.03325240743624757],\n",
       " [0.5992435533168754, 0.03498984345367875],\n",
       " [0.6990795860224428, 0.03649218631157961],\n",
       " [0.798910402657119, 0.03779988962315772],\n",
       " [0.8987371454587239, 0.03894260638583739],\n",
       " [0.9985607810066139, 0.03994301228322175],\n",
       " [1.098382137689057, 0.04081902071816426],\n",
       " [1.1982019324152289, 0.04158515127291307],\n",
       " [1.2980207901176748, 0.042253419222998516],\n",
       " [1.3978392584833843, 0.042833938081907406],\n",
       " [1.4976578193909575, 0.0433353419710134],\n",
       " [1.5974768979895846, 0.04376509037346027],\n",
       " [1.6972968700776863, 0.04412969353581418],\n",
       " [1.7971180681237826, 0.04443488279388351],\n",
       " [1.8969407863435113, 0.04468574172211632],\n",
       " [1.9967652849651434, 0.04488680880583797],\n",
       " [2.096591793877467, 0.045042159015332685],\n",
       " [2.196420515774516, 0.04515546947958666],\n",
       " [2.296251628888864, 0.045230072992222425],\n",
       " [2.396085289384591, 0.04526900207637505],\n",
       " [2.4959216334658016, 0.045275025631717127],\n",
       " [2.5957607792451456, 0.04525067968619225],\n",
       " [2.6956028284081306, 0.04519829341313292],\n",
       " [2.795447867702307, 0.04512001130910284],\n",
       " [2.8952959702751913, 0.04501781223068333],\n",
       " [2.9951471968807266, 0.044893525840208594],\n",
       " [3.0950015969707616, 0.04474884689775945],\n",
       " [3.194859209685441, 0.04458534775014039],\n",
       " [3.2947200647542667, 0.044404489300409515],\n",
       " [3.394584183317846, 0.044207630688962336],\n",
       " [3.4944515786789485, 0.043996037875683576],\n",
       " [3.5943222569902464, 0.04377089127967711],\n",
       " [3.6941962178852066, 0.04353329260663496],\n",
       " [3.7940734550577218, 0.04328427097256116],\n",
       " [3.8939539567953947, 0.04302478841523148],\n",
       " [3.9938377064707744, 0.042755744870598585],\n",
       " [4.093724682994371, 0.0424779826797045],\n",
       " [4.19361486123283, 0.04219229068203277],\n",
       " [4.293508212395239, 0.04189940794323099],\n",
       " [4.393404704390299, 0.04160002715845029],\n",
       " [4.493304302156711, 0.041294797766942865],\n",
       " [4.593206967968976, 0.04098432880883053],\n",
       " [4.693112661720542, 0.04066919155095481],\n",
       " [4.793021341186042, 0.04034992190532099],\n",
       " [4.8929329622642435, 0.040027022660742345],\n",
       " [4.992847479203125, 0.039700965545807154],\n",
       " [5.092764844808417, 0.03937219313915216],\n",
       " [5.192685010636809, 0.039041120641183584],\n",
       " [5.292607927174926, 0.038708137519790534],\n",
       " [5.392533544005044, 0.03837360904120916],\n",
       " [5.492461809958523, 0.03803787769599233],\n",
       " [5.59239267325777, 0.03770126452898288],\n",
       " [5.692326081647534, 0.03736407038126679],\n",
       " [5.792262038965624, 0.03702657717000466],\n",
       " [5.892200428953025, 0.036689048350760145],\n",
       " [5.99214119901434, 0.03635173110432413]]"
      ]
     },
     "execution_count": 55,
     "metadata": {},
     "output_type": "execute_result"
    }
   ],
   "source": [
    "e.GetSelectedOutputArray()"
   ]
  },
  {
   "cell_type": "code",
   "execution_count": 56,
   "metadata": {},
   "outputs": [
    {
     "ename": "NameError",
     "evalue": "name 'plot' is not defined",
     "output_type": "error",
     "traceback": [
      "\u001b[0;31m---------------------------------------------------------------------------\u001b[0m",
      "\u001b[0;31mNameError\u001b[0m                                 Traceback (most recent call last)",
      "\u001b[0;32m<ipython-input-56-083eec8f92d4>\u001b[0m in \u001b[0;36m<module>\u001b[0;34m()\u001b[0m\n\u001b[0;32m----> 1\u001b[0;31m \u001b[0mplot\u001b[0m\u001b[0;34m(\u001b[0m\u001b[0;34m)\u001b[0m\u001b[0;34m\u001b[0m\u001b[0m\n\u001b[0m",
      "\u001b[0;31mNameError\u001b[0m: name 'plot' is not defined"
     ]
    }
   ],
   "source": [
    "plot()"
   ]
  },
  {
   "cell_type": "code",
   "execution_count": null,
   "metadata": {
    "collapsed": true
   },
   "outputs": [],
   "source": []
  }
 ],
 "metadata": {
  "kernelspec": {
   "display_name": "Python 3",
   "language": "python",
   "name": "python3"
  },
  "language_info": {
   "codemirror_mode": {
    "name": "ipython",
    "version": 3
   },
   "file_extension": ".py",
   "mimetype": "text/x-python",
   "name": "python",
   "nbconvert_exporter": "python",
   "pygments_lexer": "ipython3",
   "version": "3.5.2"
  }
 },
 "nbformat": 4,
 "nbformat_minor": 2
}
