{
 "cells": [
  {
   "cell_type": "code",
   "execution_count": 1,
   "metadata": {
    "collapsed": true
   },
   "outputs": [],
   "source": [
    "from IPhreeqcPy import IPhreeqc\n",
    "x=IPhreeqc() #initalize IPhreeqc object\n",
    "x.LoadDatabase('wateq4f.dat') # Load database"
   ]
  },
  {
   "cell_type": "code",
   "execution_count": 2,
   "metadata": {
    "collapsed": true
   },
   "outputs": [],
   "source": [
    "x.RunFile('untitled.txt')"
   ]
  },
  {
   "cell_type": "code",
   "execution_count": 3,
   "metadata": {},
   "outputs": [
    {
     "data": {
      "text/plain": [
       "[]"
      ]
     },
     "execution_count": 3,
     "metadata": {},
     "output_type": "execute_result"
    }
   ],
   "source": [
    "x.GetSelectedOutputArray()"
   ]
  },
  {
   "cell_type": "code",
   "execution_count": 11,
   "metadata": {
    "collapsed": true
   },
   "outputs": [],
   "source": [
    "ximport IPhreeqcPy"
   ]
  },
  {
   "cell_type": "code",
   "execution_count": 12,
   "metadata": {},
   "outputs": [
    {
     "name": "stdout",
     "output_type": "stream",
     "text": [
      "[['sim', 'state', 'soln', 'dist_x', 'time', 'step', 'pH', 'pe', 'temp(C)', 'Ca(mol/kgw)', 'Si(mol/kgw)', 'portlandite', 'd_portlandite'], [1, 'react', 0, -99.0, 0.0, 1, 12.479902953321027, -3.5089724620684857, 25.0, 0.01949231187147066, 0.0, 0.980507688093405, 0.0], [1, 'advect', 1, 1.0, 500.0, 500, 12.479902953321027, -3.5089724620684857, 25.0, 0.01949231187147066, 0.0, 0.980507688093405, 0.0], [1, 'advect', 1, 1.0, 1000.0, 1000, 12.479902953321027, -3.5089724620684857, 25.0, 0.01949231187147066, 0.0, 0.980507688093405, 0.0], [1, 'advect', 1, 1.0, 1500.0, 1500, 12.479902953321027, -3.5089724620684857, 25.0, 0.01949231187147066, 0.0, 0.980507688093405, 0.0], [1, 'advect', 1, 1.0, 2000.0, 2000, 12.479902953321027, -3.5089724620684857, 25.0, 0.01949231187147066, 0.0, 0.980507688093405, 0.0], [1, 'advect', 1, 1.0, 2500.0, 2500, 12.479902953321027, -3.5089724620684857, 25.0, 0.01949231187147066, 0.0, 0.980507688093405, 0.0], [1, 'advect', 1, 1.0, 3000.0, 3000, 12.479902953321027, -3.5089724620684857, 25.0, 0.01949231187147066, 0.0, 0.980507688093405, 0.0], [1, 'advect', 1, 1.0, 3500.0, 3500, 12.479902953321027, -3.5089724620684857, 25.0, 0.01949231187147066, 0.0, 0.980507688093405, 0.0], [1, 'advect', 1, 1.0, 4000.0, 4000, 12.479902953321027, -3.5089724620684857, 25.0, 0.01949231187147066, 0.0, 0.980507688093405, 0.0], [1, 'advect', 1, 1.0, 4500.0, 4500, 12.479902953321027, -3.5089724620684857, 25.0, 0.01949231187147066, 0.0, 0.980507688093405, 0.0], [1, 'advect', 1, 1.0, 5000.0, 5000, 12.479902953321027, -3.5089724620684857, 25.0, 0.01949231187147066, 0.0, 0.980507688093405, 0.0], [1, 'advect', 1, 1.0, 5500.0, 5500, 12.479902953321027, -3.5089724620684857, 25.0, 0.01949231187147066, 0.0, 0.980507688093405, 0.0], [1, 'advect', 1, 1.0, 6000.0, 6000, 12.479902953321027, -3.5089724620684857, 25.0, 0.01949231187147066, 0.0, 0.980507688093405, 0.0], [1, 'advect', 1, 1.0, 6500.0, 6500, 12.479902953321027, -3.5089724620684857, 25.0, 0.01949231187147066, 0.0, 0.980507688093405, 0.0], [1, 'advect', 1, 1.0, 7000.0, 7000, 12.479902953321027, -3.5089724620684857, 25.0, 0.01949231187147066, 0.0, 0.980507688093405, 0.0], [1, 'advect', 1, 1.0, 7500.0, 7500, 12.479902953321027, -3.5089724620684857, 25.0, 0.01949231187147066, 0.0, 0.980507688093405, 0.0], [1, 'advect', 1, 1.0, 8000.0, 8000, 12.479902953321027, -3.5089724620684857, 25.0, 0.01949231187147066, 0.0, 0.980507688093405, 0.0], [1, 'advect', 1, 1.0, 8500.0, 8500, 12.479902953321027, -3.5089724620684857, 25.0, 0.01949231187147066, 0.0, 0.980507688093405, 0.0], [1, 'advect', 1, 1.0, 9000.0, 9000, 12.479902953321027, -3.5089724620684857, 25.0, 0.01949231187147066, 0.0, 0.980507688093405, 0.0], [1, 'advect', 1, 1.0, 9500.0, 9500, 12.479902953321027, -3.5089724620684857, 25.0, 0.01949231187147066, 0.0, 0.980507688093405, 0.0], [1, 'advect', 1, 1.0, 10000.0, 10000, 12.479902953321027, -3.5089724620684857, 25.0, 0.01949231187147066, 0.0, 0.980507688093405, 0.0]]\n",
      "b'SOLUTION_RAW                 0 Solution after simulation 1.\\n  -temp                      25\\n  -pressure                  1\\n  -total_h                   111.05758043863\\n  -total_o                   55.548282531222\\n  -cb                        -4.8572257327351e-17\\n  -density                   0.99848296684759\\n  -totals\\n    Ca                       0.019492311906595\\n    H(0)                     1.064626783226e-14\\n  -pH                        12.479902953321\\n  -pe                        -3.482931021913\\n  -mu                        0.049880395605196\\n  -ah2o                      0.99907896268462\\n  -mass_water                1.000000001802\\n  -soln_vol                  1.0029657584821\\n  -total_alkalinity          0.03898462381319\\n  -activities\\n    Ca                       -2.151010686852\\n    E                        3.482931021913\\n    H(0)                     -14.273832608759\\n    O(0)                     -63.64611559634\\n  -gammas\\nSOLUTION_RAW                 1 \\n  -temp                      25\\n  -pressure                  1\\n  -total_h                   111.01859581482\\n  -total_o                   55.509297907409\\n  -cb                        0\\n  -density                   0.997043013539\\n  -totals\\n    H(0)                     1.0496484525754e-18\\n  -pH                        7.0000486899307\\n  -pe                        4\\n  -mu                        1.0002589773389e-07\\n  -ah2o                      0.99999999659912\\n  -mass_water                1\\n  -soln_vol                  1.0029657579691\\n  -total_alkalinity          0\\n  -activities\\n    E                        -4\\n    H(0)                     -18.279986125802\\n    O(0)                     -55.633008193717\\n  -gammas\\nEQUILIBRIUM_PHASES_RAW       1 Pure-phase assemblage after simulation 1.\\n  # EXCHANGE_MODIFY candidates; use new_def=true #\\n  -new_def                   0\\n  -component                 portlandite\\n      # EQUILIBRIUM_PHASES_MODIFY candidate identifiers #\\n      -si                    0\\n      -moles                 0.98050768809341\\n      -force_equality        0\\n      -dissolve_only         0\\n      -precipitate_only      0\\n      # PPassemblage workspace variables #\\n      -si_org                0\\n      -delta                 0\\n      -initial_moles         1\\n      -totals                \\n  -eltList                   # List of all elements in phases and alternate reactions\\n    Ca                       1\\n    H                        2\\n    O                        2\\n  # PPassemblage workspace variables #\\n  -assemblage_totals\\nUSE mix none\\nUSE reaction none\\nUSE reaction_temperature none\\nUSE reaction_pressure none\\n'\n"
     ]
    }
   ],
   "source": [
    "IPhreeqcPy.test()"
   ]
  },
  {
   "cell_type": "code",
   "execution_count": 14,
   "metadata": {},
   "outputs": [
    {
     "ename": "TypeError",
     "evalue": "SetSelectedOutputFileOn() missing 1 required positional argument: 'self'",
     "output_type": "error",
     "traceback": [
      "\u001b[0;31m---------------------------------------------------------------------------\u001b[0m",
      "\u001b[0;31mTypeError\u001b[0m                                 Traceback (most recent call last)",
      "\u001b[0;32m<ipython-input-14-19faa97a7bc9>\u001b[0m in \u001b[0;36m<module>\u001b[0;34m()\u001b[0m\n\u001b[0;32m----> 1\u001b[0;31m \u001b[0mIPhreeqc\u001b[0m\u001b[0;34m.\u001b[0m\u001b[0mSetSelectedOutputFileOn\u001b[0m\u001b[0;34m(\u001b[0m\u001b[0;34m)\u001b[0m\u001b[0;34m\u001b[0m\u001b[0m\n\u001b[0m",
      "\u001b[0;31mTypeError\u001b[0m: SetSelectedOutputFileOn() missing 1 required positional argument: 'self'"
     ]
    }
   ],
   "source": [
    "IPhreeqc.SetSelectedOutputFileOn()"
   ]
  },
  {
   "cell_type": "code",
   "execution_count": 8,
   "metadata": {
    "collapsed": true
   },
   "outputs": [],
   "source": [
    "b = IPhreeqc()"
   ]
  },
  {
   "cell_type": "code",
   "execution_count": 9,
   "metadata": {
    "collapsed": true
   },
   "outputs": [],
   "source": [
    "b.LoadDatabase('cemdata07.dat')"
   ]
  },
  {
   "cell_type": "code",
   "execution_count": 10,
   "metadata": {
    "collapsed": true
   },
   "outputs": [],
   "source": [
    "b.RunFile('phr2.txt')"
   ]
  },
  {
   "cell_type": "code",
   "execution_count": 11,
   "metadata": {},
   "outputs": [
    {
     "data": {
      "text/plain": [
       "[]"
      ]
     },
     "execution_count": 11,
     "metadata": {},
     "output_type": "execute_result"
    }
   ],
   "source": [
    "b.GetSelectedOutputArray()"
   ]
  },
  {
   "cell_type": "code",
   "execution_count": 12,
   "metadata": {
    "collapsed": true
   },
   "outputs": [],
   "source": [
    "c = IPhreeqc()"
   ]
  },
  {
   "cell_type": "code",
   "execution_count": 14,
   "metadata": {},
   "outputs": [],
   "source": [
    "c.SetDumpFileOn()"
   ]
  },
  {
   "cell_type": "code",
   "execution_count": 15,
   "metadata": {
    "collapsed": true
   },
   "outputs": [],
   "source": [
    "c.SetDumpStringOn()"
   ]
  },
  {
   "cell_type": "code",
   "execution_count": 16,
   "metadata": {
    "collapsed": true
   },
   "outputs": [],
   "source": [
    "c.SetSelectedOutputFileOn()"
   ]
  },
  {
   "cell_type": "code",
   "execution_count": null,
   "metadata": {
    "collapsed": true
   },
   "outputs": [],
   "source": [
    "c."
   ]
  }
 ],
 "metadata": {
  "kernelspec": {
   "display_name": "Python 3",
   "language": "python",
   "name": "python3"
  },
  "language_info": {
   "codemirror_mode": {
    "name": "ipython",
    "version": 3
   },
   "file_extension": ".py",
   "mimetype": "text/x-python",
   "name": "python",
   "nbconvert_exporter": "python",
   "pygments_lexer": "ipython3",
   "version": "3.5.2"
  }
 },
 "nbformat": 4,
 "nbformat_minor": 2
}
